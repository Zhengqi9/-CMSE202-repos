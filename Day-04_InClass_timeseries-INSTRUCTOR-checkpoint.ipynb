{
 "cells": [
  {
   "cell_type": "markdown",
   "metadata": {},
   "source": [
    "### ANSWER\n",
    "\n",
    "#### Emphasize in groups\n",
    "\n",
    "* Continue to push for collaboration and sharing screens to get them to work together\n",
    "* The results at the end of this notebook are wrong on purpose to have students reflect on what makes a plot meaningful. Effectively, the x-axis makes no sense without having real times used; using the location of the number in teh array as a proxy for time is bad when comparing plots\n",
    "* The emphasis here should be on reading in raw data and making sense of how to use it for calculations. \n",
    "    * One important thing to remember is that the calculations we do on the data lead to higher level abstraction of the data. If we are not careful, we could be making conclusions from a level up in abstraction the propagates some error in the calculation. This is the reason for comparing doubling time plots."
   ]
  },
  {
   "cell_type": "markdown",
   "metadata": {},
   "source": [
    "### <p style=\"text-align: right;\"> &#9989; Liwei Fang</p>\n",
    "#### <p style=\"text-align: right;\"> &#9989; Put your group member names here</p>"
   ]
  },
  {
   "cell_type": "markdown",
   "metadata": {},
   "source": [
    "# Day 04 In-Class Assignment: Analyzing Covid Data\n",
    "\n",
    "This notebook is an modified version of one authored by [Brian O'Shea](https://web.pa.msu.edu/people/osheabr/) at CMSE in the early part of the COVID-19 epidemic.\n",
    "\n",
    "## Goals for today's In-class assignment \n",
    "\n",
    "1. Read JSON data into a Pandas DataFrame\n",
    "2. Perform calculations with the `datetime` class\n",
    "3. Read COVID data from the web into a Pandas DataFrame\n",
    "4. Calculate the Doubling Time for the virus\n",
    "5. Represent that data in plots and discuss meaningful representations of data\n",
    "\n",
    "## Information on the data we will use\n",
    "\n",
    "This notebook uses Pandas to retrieve JSON data files created by the [Johns Hopkins Coronavirus Resource Center](https://coronavirus.jhu.edu) (and stored at [The COVID Tracking Project](https://covidtracking.com/)) to make real-time tracking plots of the growth of the COVID-19 pandemic in the US and Michigan, as well as estimate the doubling time of the number of positive cases.  These data files are updated daily, so re-running the notebook will get the most current data.  It's easy to change the state that is plotted by changing the `my_state` variable.  There's also quite a bit more information in the data files!\n",
    "\n",
    "**Important note:**  The data file tracks the number of people who have _tested positive_ of COVID in the US and Michigan, not an estimate of the total number of positive cases in the US and Michigan."
   ]
  },
  {
   "cell_type": "markdown",
   "metadata": {},
   "source": [
    "### The imports "
   ]
  },
  {
   "cell_type": "code",
   "execution_count": 2,
   "metadata": {},
   "outputs": [],
   "source": [
    "%matplotlib inline\n",
    "import pandas as pd\n",
    "import numpy as np\n",
    "import matplotlib.pyplot as plt\n",
    "import math\n",
    "import datetime"
   ]
  },
  {
   "cell_type": "markdown",
   "metadata": {},
   "source": [
    "----\n",
    "## 1. Working with JSON data\n",
    "\n",
    "It is a bit of a story to explain what JSON (pronounced \"J\" \"son\") data is but it is worth our time. To understand JSON you have to know a little bit about JavaScript. If you read the <a href=\"https://en.wikipedia.org/wiki/JavaScript\"> wikipedia page </a> you will read:\n",
    "\n",
    "> Alongside HTML and CSS, JavaScript is one of the core technologies of the World Wide Web.[8] JavaScript enables interactive web pages and is an essential part of web applications. The vast majority of websites use it for client-side page behavior,[9] and all major web browsers have a dedicated JavaScript engine to execute it. \n",
    "\n",
    "So the fact that modern browsers have a dynamic character (pages change based on all kinds of inputs) is largely due to an underlying programming language called JavaScript. \n",
    "\n",
    "One problem is that it is likely the case that you want your web server (not on your machine) to dynamically generate content, to be rendered using JavaScript. How to get the dynamic content from the server to your local machine? The exchange of information has to use text to be universal. How do you translate existing JavaScript objects into text and back? You guessed it, that is what JSON is.\n",
    "\n",
    "From <a href=\"https://en.wikipedia.org/wiki/JSON\"> wikipedia JSON page</a>:\n",
    "> JavaScript Object Notation (JSON) is an open standard file format, and data interchange format, that uses human-readable text to store and transmit data objects consisting of attribute–value pairs and array data types (or any other serializable value).\n",
    "\n",
    "> JSON is a language-independent data format. It was derived from JavaScript, but many modern programming languages include code to generate and parse JSON-format data. The official Internet media type for JSON is application/json. JSON filenames use the extension .json. \n",
    "\n",
    "The term `serializable` is worth noting. By this we mean that actual object instances, with all their variable settings and methods, can be stored into a format and then re-created \"as they were\" in another location. That is, the `state` of a system can be stored and then re-created at a later date. Note that JSON was originally set up for JavaScript, but as a \"state saver\" can be used in all kinds of place. Like Python!\n",
    "\n",
    "Bottom line: JSON is a way to exchange information across the internet. We are going to use that!"
   ]
  },
  {
   "cell_type": "markdown",
   "metadata": {},
   "source": [
    "### 1.1 DataFrame to JSON and back\n",
    "\n",
    "The `.read_json` and `.to_json` allow us to read and write a DataFrame to JSON. Let's do that:"
   ]
  },
  {
   "cell_type": "code",
   "execution_count": 3,
   "metadata": {},
   "outputs": [],
   "source": [
    "my_dict = { \"tens\": [10, 11, 12, 13, 14, 15],\n",
    "            \"twentys\" : [20, 21, 22, 23, 24, 25],\n",
    "            \"thirtys\" : [30, 31, 32, 33, 34, 35]\n",
    "          }"
   ]
  },
  {
   "cell_type": "markdown",
   "metadata": {},
   "source": [
    "<font size=8 color=\"#009600\">&#9998;</font> Do This - Do the following:\n",
    "* turn that dictionary into a DataFrame\n",
    "* print the DataFrame\n",
    "* write out the DataFrame as a JSON file (look up `to_json`)\n",
    "* take a look at that file with your editor\n",
    "* read that JSON file back into a DataFrame with a different name (look up `read_json`)\n",
    "* print out the new DataFrame"
   ]
  },
  {
   "cell_type": "code",
   "execution_count": 5,
   "metadata": {},
   "outputs": [
    {
     "name": "stdout",
     "output_type": "stream",
     "text": [
      "   tens  twentys  thirtys\n",
      "0    10       20       30\n",
      "1    11       21       31\n",
      "2    12       22       32\n",
      "3    13       23       33\n",
      "4    14       24       34\n",
      "5    15       25       35\n",
      "   tens  twentys  thirtys\n",
      "0    10       20       30\n",
      "1    11       21       31\n",
      "2    12       22       32\n",
      "3    13       23       33\n",
      "4    14       24       34\n",
      "5    15       25       35\n"
     ]
    }
   ],
   "source": [
    "# your code here\n",
    "df1 = pd.DataFrame(my_dict)\n",
    "print(df1)\n",
    "df1.to_json(\"temp.json\")\n",
    "df2 = pd.read_json(\"temp.json\")\n",
    "print(df2)"
   ]
  },
  {
   "cell_type": "code",
   "execution_count": 4,
   "metadata": {},
   "outputs": [
    {
     "name": "stdout",
     "output_type": "stream",
     "text": [
      "   tens  twentys  thirtys\n",
      "0    10       20       30\n",
      "1    11       21       31\n",
      "2    12       22       32\n",
      "3    13       23       33\n",
      "4    14       24       34\n",
      "5    15       25       35\n",
      "   tens  twentys  thirtys\n",
      "0    10       20       30\n",
      "1    11       21       31\n",
      "2    12       22       32\n",
      "3    13       23       33\n",
      "4    14       24       34\n",
      "5    15       25       35\n"
     ]
    }
   ],
   "source": [
    "### ANSWER ###\n",
    "\n",
    "df1 = pd.DataFrame(my_dict)\n",
    "print(df1)\n",
    "df1.to_json(\"temp.json\")\n",
    "df2 = pd.read_json(\"temp.json\")\n",
    "print(df2)"
   ]
  },
  {
   "cell_type": "markdown",
   "metadata": {},
   "source": [
    "### 1.2 Read JSON over the internet\n",
    "\n",
    "But here is the really cool stuff. You don't have to have a JSON file on your local machine to read it in. You can actually read it from a source on the internet and use it locally. Remember, JSON is an exchange file format so that makes perfect sense!"
   ]
  },
  {
   "cell_type": "code",
   "execution_count": 5,
   "metadata": {},
   "outputs": [
    {
     "name": "stdout",
     "output_type": "stream",
     "text": [
      "     sepalLength  sepalWidth  petalLength  petalWidth    species\n",
      "0            5.1         3.5          1.4         0.2     setosa\n",
      "1            4.9         3.0          1.4         0.2     setosa\n",
      "2            4.7         3.2          1.3         0.2     setosa\n",
      "3            4.6         3.1          1.5         0.2     setosa\n",
      "4            5.0         3.6          1.4         0.2     setosa\n",
      "..           ...         ...          ...         ...        ...\n",
      "145          6.7         3.0          5.2         2.3  virginica\n",
      "146          6.3         2.5          5.0         1.9  virginica\n",
      "147          6.5         3.0          5.2         2.0  virginica\n",
      "148          6.2         3.4          5.4         2.3  virginica\n",
      "149          5.9         3.0          5.1         1.8  virginica\n",
      "\n",
      "[150 rows x 5 columns]\n"
     ]
    }
   ],
   "source": [
    "iris_df = pd.read_json(\"https://raw.githubusercontent.com/domoritz/maps/master/data/iris.json\")\n",
    "print(iris_df)"
   ]
  },
  {
   "cell_type": "markdown",
   "metadata": {},
   "source": [
    "Ah, it's our favorite iris dataset but read in from a file on the internet. Open that url once in your browser. Should look pretty understandable at this point."
   ]
  },
  {
   "cell_type": "markdown",
   "metadata": {},
   "source": [
    "-----\n",
    "## 2. Analyzing COVID data\n",
    "\n",
    "You must be living under a rock to not know about tracking the COVID-19 virus outbreak. Let's see if we can do some data analysis of a time-series, JSON file. \n",
    "\n",
    "Gets the data from [covidtracking.com](https://covidtracking.com) - specifically, the page [https://covidtracking.com/api](https://covidtracking.com/api).  This page has historical data for the US as a whole, for states, and for counties.  The JSON files have a ton of data in addition to what we're showing. The two URLs we are most interested in are:\n",
    "* <a href=\"https://covidtracking.com/api/us/daily\"> https://covidtracking.com/api/us/daily </a> which is the US daily report as a JSON file\n",
    "* <a href=\"https://covidtracking.com/api/v1/states/daily.json\">https://covidtracking.com/api/v1/states/daily.json </a> which is the data for all 50 states.\n",
    "\n",
    "Before you do anything else, you should open those two links in your browser and look at the data. JSON is pretty readable and you need to read a little about what's there so we can do some more work."
   ]
  },
  {
   "cell_type": "markdown",
   "metadata": {},
   "source": [
    "<font size=8 color=\"#009600\">&#9998;</font> Do This - Do the following:\n",
    "* read the US daily into a DataFrame\n",
    "* read the state data into a DataFrame\n",
    "   * make a DataFrame that contains just the state of Michigan from the state data\n",
    "* print the `.head` of the US and MI DataFrames."
   ]
  },
  {
   "cell_type": "code",
   "execution_count": 6,
   "metadata": {},
   "outputs": [
    {
     "name": "stdout",
     "output_type": "stream",
     "text": [
      "\n",
      " ALL US \n",
      "        date  states  positive  negative  pending  hospitalizedCurrently  \\\n",
      "0  20200915      56   6557762  81351140   4966.0                30327.0   \n",
      "1  20200914      56   6522317  80701552  10494.0                29867.0   \n",
      "2  20200913      56   6488453  80329804  10467.0                29816.0   \n",
      "3  20200912      56   6454000  79717367  10403.0                30662.0   \n",
      "4  20200911      56   6411913  78910645  10813.0                31421.0   \n",
      "\n",
      "   hospitalizedCumulative  inIcuCurrently  inIcuCumulative  \\\n",
      "0                389107.0          6310.0          18847.0   \n",
      "1                387616.0          6233.0          18748.0   \n",
      "2                386679.0          6234.0          18692.0   \n",
      "3                386087.0          6454.0          18648.0   \n",
      "4                385011.0          6379.0          18549.0   \n",
      "\n",
      "   onVentilatorCurrently  ...          lastModified     total  \\\n",
      "0                 1572.0  ...  2020-09-15T00:00:00Z  87913868   \n",
      "1                 1507.0  ...  2020-09-14T00:00:00Z  87234363   \n",
      "2                 1562.0  ...  2020-09-13T00:00:00Z  86828724   \n",
      "3                 1619.0  ...  2020-09-12T00:00:00Z  86181770   \n",
      "4                 1715.0  ...  2020-09-11T00:00:00Z  85333371   \n",
      "\n",
      "  totalTestResults    posNeg  deathIncrease hospitalizedIncrease  \\\n",
      "0         87908902  87908902           1031                 1491   \n",
      "1         87223869  87223869            403                  937   \n",
      "2         86818257  86818257            389                  592   \n",
      "3         86171367  86171367            810                 1076   \n",
      "4         85322558  85322558           1018                 1553   \n",
      "\n",
      "   negativeIncrease  positiveIncrease  totalTestResultsIncrease  \\\n",
      "0            649588             35445                    685033   \n",
      "1            371748             33864                    405612   \n",
      "2            612437             34453                    646890   \n",
      "3            806722             42087                    848809   \n",
      "4            721070             44927                    765997   \n",
      "\n",
      "                                       hash  \n",
      "0  fac9cfa88e1b23fde8468cf7f8d70059b1ed4c4c  \n",
      "1  46fd8ec2452300bcdd48824cdcd0a139a6679dd5  \n",
      "2  f6de8b952e5917ae99fb7ce488910d2cb1f32964  \n",
      "3  7637c7501e6ab32fcba3aec3c9e4905910f633d3  \n",
      "4  97633c7d65f2da5689dc71eecc4eda234aa70e51  \n",
      "\n",
      "[5 rows x 25 columns]\n",
      "\n",
      " Michigan \n",
      "          date state  positive   negative  pending  hospitalizedCurrently  \\\n",
      "24   20200915    MI  124969.0  3062652.0      NaN                  590.0   \n",
      "80   20200914    MI  124287.0  3037800.0      NaN                  590.0   \n",
      "136  20200913    MI  123058.0  2987552.0      NaN                  627.0   \n",
      "192  20200912    MI  123058.0  2987552.0      NaN                  627.0   \n",
      "248  20200911    MI  122251.0  2950535.0      NaN                  627.0   \n",
      "\n",
      "     hospitalizedCumulative  inIcuCurrently  inIcuCumulative  \\\n",
      "24                      NaN           152.0              NaN   \n",
      "80                      NaN           152.0              NaN   \n",
      "136                     NaN           172.0              NaN   \n",
      "192                     NaN           172.0              NaN   \n",
      "248                     NaN           172.0              NaN   \n",
      "\n",
      "     onVentilatorCurrently  ...   posNeg  deathIncrease hospitalizedIncrease  \\\n",
      "24                    68.0  ...  3187621             11                    0   \n",
      "80                    82.0  ...  3162087             10                    0   \n",
      "136                   77.0  ...  3110610              0                    0   \n",
      "192                   77.0  ...  3110610             11                    0   \n",
      "248                   77.0  ...  3072786              6                    0   \n",
      "\n",
      "                                         hash commercialScore  \\\n",
      "24   6b5c11dab347d8bab7d45b42c7d4273d21460917               0   \n",
      "80   e4dc8cf5a3132cac1dc0114bf374396648826d99               0   \n",
      "136  3b119610e6f62cfa044bd7fb4a7021a53161d0ba               0   \n",
      "192  d91f8fb7cdfd0a69de7fdef497491e9c5b5ef784               0   \n",
      "248  c85cd0b7af30f1f41ae020b12b670768e0686817               0   \n",
      "\n",
      "    negativeRegularScore  negativeScore  positiveScore score  grade  \n",
      "24                     0              0              0     0         \n",
      "80                     0              0              0     0         \n",
      "136                    0              0              0     0         \n",
      "192                    0              0              0     0         \n",
      "248                    0              0              0     0         \n",
      "\n",
      "[5 rows x 54 columns]\n"
     ]
    }
   ],
   "source": [
    "# your code here\n",
    "us_df = pd.read_json(\"https://covidtracking.com/api/us/daily\")\n",
    "all_states_df = pd.read_json(\"https://covidtracking.com/api/v1/states/daily.json\")\n",
    "\n",
    "MI_df = all_states_df[all_states_df['state']==\"MI\"]\n",
    "print('\\n ALL US \\n', us_df.head())\n",
    "print('\\n Michigan \\n', MI_df.head())"
   ]
  },
  {
   "cell_type": "code",
   "execution_count": 7,
   "metadata": {},
   "outputs": [
    {
     "name": "stdout",
     "output_type": "stream",
     "text": [
      "\n",
      " ALL US \n",
      "        date  states  positive  negative  pending  hospitalizedCurrently  \\\n",
      "0  20200909      56   6329405  77613114   6551.0                32562.0   \n",
      "1  20200908      56   6298422  77059685   8983.0                32263.0   \n",
      "2  20200907      56   6276203  76573198   8986.0                31999.0   \n",
      "3  20200906      56   6247522  76013582   8946.0                32361.0   \n",
      "4  20200905      56   6214407  75310873   9021.0                33502.0   \n",
      "\n",
      "   hospitalizedCumulative  inIcuCurrently  inIcuCumulative  \\\n",
      "0                381926.0          6646.0          18322.0   \n",
      "1                379866.0          6542.0          18189.0   \n",
      "2                378907.0          6630.0          18156.0   \n",
      "3                378415.0          6699.0          18125.0   \n",
      "4                377926.0          6766.0          18089.0   \n",
      "\n",
      "   onVentilatorCurrently  ...          lastModified     total  \\\n",
      "0                 1903.0  ...  2020-09-09T00:00:00Z  83949070   \n",
      "1                 1879.0  ...  2020-09-08T00:00:00Z  83367090   \n",
      "2                 1879.0  ...  2020-09-07T00:00:00Z  82858387   \n",
      "3                 1912.0  ...  2020-09-06T00:00:00Z  82270050   \n",
      "4                 1956.0  ...  2020-09-05T00:00:00Z  81534301   \n",
      "\n",
      "  totalTestResults    posNeg  deathIncrease hospitalizedIncrease  \\\n",
      "0         83942519  83942519           1089                 2060   \n",
      "1         83358107  83358107            358                  959   \n",
      "2         82849401  82849401            225                  492   \n",
      "3         82261104  82261104            449                  489   \n",
      "4         81525280  81525280            918                 1287   \n",
      "\n",
      "   negativeIncrease  positiveIncrease  totalTestResultsIncrease  \\\n",
      "0            553429             30983                    584412   \n",
      "1            486487             22219                    508706   \n",
      "2            559616             28681                    588297   \n",
      "3            702709             33115                    735824   \n",
      "4            761056             44910                    805966   \n",
      "\n",
      "                                       hash  \n",
      "0  e5c534217742be6f09560d25616f96c0d1915b4c  \n",
      "1  c43bc49c6f42a78c85c704d97acdf1044d89bc3b  \n",
      "2  23ba2e4ce89a07512fa56cc86442f9da440d644c  \n",
      "3  b4363094c4b840e8a8660bf8213749232fae73db  \n",
      "4  5a3e0e97caa4d2d9536e2ec55bc6124938a6b430  \n",
      "\n",
      "[5 rows x 25 columns]\n",
      "\n",
      " Michigan \n",
      "          date state  positive   negative  pending  hospitalizedCurrently  \\\n",
      "24   20200909    MI  119863.0  2883414.0      NaN                  616.0   \n",
      "80   20200908    MI  118902.0  2861182.0      NaN                  616.0   \n",
      "136  20200907    MI  118403.0  2844275.0      NaN                  616.0   \n",
      "192  20200906    MI  117191.0  2801811.0      NaN                  616.0   \n",
      "248  20200905    MI  117191.0  2801811.0      NaN                  616.0   \n",
      "\n",
      "     hospitalizedCumulative  inIcuCurrently  inIcuCumulative  \\\n",
      "24                      NaN           158.0              NaN   \n",
      "80                      NaN           158.0              NaN   \n",
      "136                     NaN           158.0              NaN   \n",
      "192                     NaN           158.0              NaN   \n",
      "248                     NaN           158.0              NaN   \n",
      "\n",
      "     onVentilatorCurrently  ...   posNeg  deathIncrease hospitalizedIncrease  \\\n",
      "24                    70.0  ...  3003277             76                    0   \n",
      "80                    76.0  ...  2980084              1                    0   \n",
      "136                   71.0  ...  2962678              4                    0   \n",
      "192                   71.0  ...  2919002              0                    0   \n",
      "248                   71.0  ...  2919002              8                    0   \n",
      "\n",
      "                                         hash commercialScore  \\\n",
      "24   da7d758f7b17c69f974d0a8ad53647858950d47a               0   \n",
      "80   801f7d8795e74bece92bae3adff400cd245cb1bf               0   \n",
      "136  565ca9242bc12540e899aa405fe0e5dbfa627fb3               0   \n",
      "192  f1437d5a6117d5b7364470917e6d6b5310f319fe               0   \n",
      "248  ea5cefa02687fc1df1ba2a8b835240b119e42a2f               0   \n",
      "\n",
      "    negativeRegularScore  negativeScore  positiveScore score  grade  \n",
      "24                     0              0              0     0         \n",
      "80                     0              0              0     0         \n",
      "136                    0              0              0     0         \n",
      "192                    0              0              0     0         \n",
      "248                    0              0              0     0         \n",
      "\n",
      "[5 rows x 54 columns]\n"
     ]
    }
   ],
   "source": [
    "### ANSWER ###\n",
    "\n",
    "us_df = pd.read_json(\"https://covidtracking.com/api/us/daily\")\n",
    "all_states_df = pd.read_json(\"https://covidtracking.com/api/v1/states/daily.json\")\n",
    "\n",
    "# select out MI\n",
    "MI_df = all_states_df[all_states_df['state']==\"MI\"]\n",
    "print('\\n ALL US \\n', us_df.head())\n",
    "print('\\n Michigan \\n', MI_df.head())"
   ]
  },
  {
   "cell_type": "markdown",
   "metadata": {},
   "source": [
    "### 2.1 Convert data to DateTime\n",
    "\n",
    "There's a date field in the data but it is not in pandas datetime format. That would be helpful since this is a time series. \n",
    "\n",
    "<font size=8 color=\"#009600\">&#9998;</font> Do This - Let's do what we did before:\n",
    "* Let's make a Series from the `date` field using `to_datetime`. \n",
    "Look at the format of the date of the JSON file in your browser and write the appropriate format specifier to get it into datetime format.\n",
    "* assign the Series to the DataFrame under the name \"datetime\"\n",
    "* make a new DataFrame with all the positive cases in the US along with the datatime (just the two columns)\n",
    "* print the head of the 2-column, positive US cases\n"
   ]
  },
  {
   "cell_type": "code",
   "execution_count": 7,
   "metadata": {},
   "outputs": [
    {
     "name": "stdout",
     "output_type": "stream",
     "text": [
      "0     1970-01-01 00:00:00.020200915\n",
      "1     1970-01-01 00:00:00.020200914\n",
      "2     1970-01-01 00:00:00.020200913\n",
      "3     1970-01-01 00:00:00.020200912\n",
      "4     1970-01-01 00:00:00.020200911\n",
      "                   ...             \n",
      "233   1970-01-01 00:00:00.020200126\n",
      "234   1970-01-01 00:00:00.020200125\n",
      "235   1970-01-01 00:00:00.020200124\n",
      "236   1970-01-01 00:00:00.020200123\n",
      "237   1970-01-01 00:00:00.020200122\n",
      "Name: date, Length: 238, dtype: datetime64[ns]\n"
     ]
    },
    {
     "data": {
      "text/html": [
       "<div>\n",
       "<style scoped>\n",
       "    .dataframe tbody tr th:only-of-type {\n",
       "        vertical-align: middle;\n",
       "    }\n",
       "\n",
       "    .dataframe tbody tr th {\n",
       "        vertical-align: top;\n",
       "    }\n",
       "\n",
       "    .dataframe thead th {\n",
       "        text-align: right;\n",
       "    }\n",
       "</style>\n",
       "<table border=\"1\" class=\"dataframe\">\n",
       "  <thead>\n",
       "    <tr style=\"text-align: right;\">\n",
       "      <th></th>\n",
       "      <th>positive</th>\n",
       "      <th>datetime</th>\n",
       "    </tr>\n",
       "  </thead>\n",
       "  <tbody>\n",
       "    <tr>\n",
       "      <th>0</th>\n",
       "      <td>6557762</td>\n",
       "      <td>1970-01-01 00:00:00.020200915</td>\n",
       "    </tr>\n",
       "    <tr>\n",
       "      <th>1</th>\n",
       "      <td>6522317</td>\n",
       "      <td>1970-01-01 00:00:00.020200914</td>\n",
       "    </tr>\n",
       "    <tr>\n",
       "      <th>2</th>\n",
       "      <td>6488453</td>\n",
       "      <td>1970-01-01 00:00:00.020200913</td>\n",
       "    </tr>\n",
       "    <tr>\n",
       "      <th>3</th>\n",
       "      <td>6454000</td>\n",
       "      <td>1970-01-01 00:00:00.020200912</td>\n",
       "    </tr>\n",
       "    <tr>\n",
       "      <th>4</th>\n",
       "      <td>6411913</td>\n",
       "      <td>1970-01-01 00:00:00.020200911</td>\n",
       "    </tr>\n",
       "  </tbody>\n",
       "</table>\n",
       "</div>"
      ],
      "text/plain": [
       "   positive                      datetime\n",
       "0   6557762 1970-01-01 00:00:00.020200915\n",
       "1   6522317 1970-01-01 00:00:00.020200914\n",
       "2   6488453 1970-01-01 00:00:00.020200913\n",
       "3   6454000 1970-01-01 00:00:00.020200912\n",
       "4   6411913 1970-01-01 00:00:00.020200911"
      ]
     },
     "execution_count": 7,
     "metadata": {},
     "output_type": "execute_result"
    }
   ],
   "source": [
    "# your code here\n",
    "US_dates = pd.to_datetime(us_df['date'], format='')\n",
    "print(US_dates)\n",
    "temp = us_df.assign(datetime= US_dates)\n",
    "positive_us_df = temp[[\"positive\", \"datetime\"]]\n",
    "positive_us_df.head()"
   ]
  },
  {
   "cell_type": "code",
   "execution_count": 9,
   "metadata": {},
   "outputs": [
    {
     "name": "stdout",
     "output_type": "stream",
     "text": [
      "0     2020-09-09\n",
      "1     2020-09-08\n",
      "2     2020-09-07\n",
      "3     2020-09-06\n",
      "4     2020-09-05\n",
      "         ...    \n",
      "227   2020-01-26\n",
      "228   2020-01-25\n",
      "229   2020-01-24\n",
      "230   2020-01-23\n",
      "231   2020-01-22\n",
      "Name: date, Length: 232, dtype: datetime64[ns]\n"
     ]
    },
    {
     "data": {
      "text/html": [
       "<div>\n",
       "<style scoped>\n",
       "    .dataframe tbody tr th:only-of-type {\n",
       "        vertical-align: middle;\n",
       "    }\n",
       "\n",
       "    .dataframe tbody tr th {\n",
       "        vertical-align: top;\n",
       "    }\n",
       "\n",
       "    .dataframe thead th {\n",
       "        text-align: right;\n",
       "    }\n",
       "</style>\n",
       "<table border=\"1\" class=\"dataframe\">\n",
       "  <thead>\n",
       "    <tr style=\"text-align: right;\">\n",
       "      <th></th>\n",
       "      <th>positive</th>\n",
       "      <th>datetime</th>\n",
       "    </tr>\n",
       "  </thead>\n",
       "  <tbody>\n",
       "    <tr>\n",
       "      <th>0</th>\n",
       "      <td>6329405</td>\n",
       "      <td>2020-09-09</td>\n",
       "    </tr>\n",
       "    <tr>\n",
       "      <th>1</th>\n",
       "      <td>6298422</td>\n",
       "      <td>2020-09-08</td>\n",
       "    </tr>\n",
       "    <tr>\n",
       "      <th>2</th>\n",
       "      <td>6276203</td>\n",
       "      <td>2020-09-07</td>\n",
       "    </tr>\n",
       "    <tr>\n",
       "      <th>3</th>\n",
       "      <td>6247522</td>\n",
       "      <td>2020-09-06</td>\n",
       "    </tr>\n",
       "    <tr>\n",
       "      <th>4</th>\n",
       "      <td>6214407</td>\n",
       "      <td>2020-09-05</td>\n",
       "    </tr>\n",
       "  </tbody>\n",
       "</table>\n",
       "</div>"
      ],
      "text/plain": [
       "   positive   datetime\n",
       "0   6329405 2020-09-09\n",
       "1   6298422 2020-09-08\n",
       "2   6276203 2020-09-07\n",
       "3   6247522 2020-09-06\n",
       "4   6214407 2020-09-05"
      ]
     },
     "execution_count": 9,
     "metadata": {},
     "output_type": "execute_result"
    }
   ],
   "source": [
    "### ANSWER ###\n",
    "\n",
    "fixed_US_dates = pd.to_datetime(us_df['date'], format='%Y%m%d')\n",
    "print(fixed_US_dates)\n",
    "temp = us_df.assign(datetime=fixed_US_dates)\n",
    "positive_us_df = temp[[\"positive\", \"datetime\"]]\n",
    "positive_us_df.head()"
   ]
  },
  {
   "cell_type": "markdown",
   "metadata": {},
   "source": [
    "Do the same for the Michigan State Data. \n",
    "\n",
    "<font size=8 color=\"#009600\">&#9998;</font> Do This - Make a two column DataFrame with datetime and positives."
   ]
  },
  {
   "cell_type": "code",
   "execution_count": 9,
   "metadata": {},
   "outputs": [
    {
     "name": "stdout",
     "output_type": "stream",
     "text": [
      "24      2020-09-15\n",
      "80      2020-09-14\n",
      "136     2020-09-13\n",
      "192     2020-09-12\n",
      "248     2020-09-11\n",
      "           ...    \n",
      "10809   2020-03-05\n",
      "10831   2020-03-04\n",
      "10844   2020-03-03\n",
      "10850   2020-03-02\n",
      "10856   2020-03-01\n",
      "Name: date, Length: 199, dtype: datetime64[ns]\n"
     ]
    },
    {
     "data": {
      "text/html": [
       "<div>\n",
       "<style scoped>\n",
       "    .dataframe tbody tr th:only-of-type {\n",
       "        vertical-align: middle;\n",
       "    }\n",
       "\n",
       "    .dataframe tbody tr th {\n",
       "        vertical-align: top;\n",
       "    }\n",
       "\n",
       "    .dataframe thead th {\n",
       "        text-align: right;\n",
       "    }\n",
       "</style>\n",
       "<table border=\"1\" class=\"dataframe\">\n",
       "  <thead>\n",
       "    <tr style=\"text-align: right;\">\n",
       "      <th></th>\n",
       "      <th>positive</th>\n",
       "      <th>datetime</th>\n",
       "    </tr>\n",
       "  </thead>\n",
       "  <tbody>\n",
       "    <tr>\n",
       "      <th>24</th>\n",
       "      <td>124969.0</td>\n",
       "      <td>2020-09-15</td>\n",
       "    </tr>\n",
       "    <tr>\n",
       "      <th>80</th>\n",
       "      <td>124287.0</td>\n",
       "      <td>2020-09-14</td>\n",
       "    </tr>\n",
       "    <tr>\n",
       "      <th>136</th>\n",
       "      <td>123058.0</td>\n",
       "      <td>2020-09-13</td>\n",
       "    </tr>\n",
       "    <tr>\n",
       "      <th>192</th>\n",
       "      <td>123058.0</td>\n",
       "      <td>2020-09-12</td>\n",
       "    </tr>\n",
       "    <tr>\n",
       "      <th>248</th>\n",
       "      <td>122251.0</td>\n",
       "      <td>2020-09-11</td>\n",
       "    </tr>\n",
       "  </tbody>\n",
       "</table>\n",
       "</div>"
      ],
      "text/plain": [
       "     positive   datetime\n",
       "24   124969.0 2020-09-15\n",
       "80   124287.0 2020-09-14\n",
       "136  123058.0 2020-09-13\n",
       "192  123058.0 2020-09-12\n",
       "248  122251.0 2020-09-11"
      ]
     },
     "execution_count": 9,
     "metadata": {},
     "output_type": "execute_result"
    }
   ],
   "source": [
    "#your code here\n",
    "MI= pd.to_datetime(MI_df['date'], format='%Y%m%d')\n",
    "print(MI)\n",
    "temp = MI_df.assign(datetime=MI)\n",
    "positive_MI_df = temp[[\"positive\", \"datetime\"]]\n",
    "positive_MI_df.head()"
   ]
  },
  {
   "cell_type": "code",
   "execution_count": 11,
   "metadata": {},
   "outputs": [
    {
     "name": "stdout",
     "output_type": "stream",
     "text": [
      "24      2020-09-09\n",
      "80      2020-09-08\n",
      "136     2020-09-07\n",
      "192     2020-09-06\n",
      "248     2020-09-05\n",
      "           ...    \n",
      "10473   2020-03-05\n",
      "10495   2020-03-04\n",
      "10508   2020-03-03\n",
      "10514   2020-03-02\n",
      "10520   2020-03-01\n",
      "Name: date, Length: 193, dtype: datetime64[ns]\n"
     ]
    },
    {
     "data": {
      "text/html": [
       "<div>\n",
       "<style scoped>\n",
       "    .dataframe tbody tr th:only-of-type {\n",
       "        vertical-align: middle;\n",
       "    }\n",
       "\n",
       "    .dataframe tbody tr th {\n",
       "        vertical-align: top;\n",
       "    }\n",
       "\n",
       "    .dataframe thead th {\n",
       "        text-align: right;\n",
       "    }\n",
       "</style>\n",
       "<table border=\"1\" class=\"dataframe\">\n",
       "  <thead>\n",
       "    <tr style=\"text-align: right;\">\n",
       "      <th></th>\n",
       "      <th>positive</th>\n",
       "      <th>datetime</th>\n",
       "    </tr>\n",
       "  </thead>\n",
       "  <tbody>\n",
       "    <tr>\n",
       "      <th>24</th>\n",
       "      <td>119863.0</td>\n",
       "      <td>2020-09-09</td>\n",
       "    </tr>\n",
       "    <tr>\n",
       "      <th>80</th>\n",
       "      <td>118902.0</td>\n",
       "      <td>2020-09-08</td>\n",
       "    </tr>\n",
       "    <tr>\n",
       "      <th>136</th>\n",
       "      <td>118403.0</td>\n",
       "      <td>2020-09-07</td>\n",
       "    </tr>\n",
       "    <tr>\n",
       "      <th>192</th>\n",
       "      <td>117191.0</td>\n",
       "      <td>2020-09-06</td>\n",
       "    </tr>\n",
       "    <tr>\n",
       "      <th>248</th>\n",
       "      <td>117191.0</td>\n",
       "      <td>2020-09-05</td>\n",
       "    </tr>\n",
       "  </tbody>\n",
       "</table>\n",
       "</div>"
      ],
      "text/plain": [
       "     positive   datetime\n",
       "24   119863.0 2020-09-09\n",
       "80   118902.0 2020-09-08\n",
       "136  118403.0 2020-09-07\n",
       "192  117191.0 2020-09-06\n",
       "248  117191.0 2020-09-05"
      ]
     },
     "execution_count": 11,
     "metadata": {},
     "output_type": "execute_result"
    }
   ],
   "source": [
    "### ANSWER ###\n",
    "\n",
    "fixed_MI_dates = pd.to_datetime(MI_df['date'], format='%Y%m%d')\n",
    "print(fixed_MI_dates)\n",
    "temp = MI_df.assign(datetime=fixed_MI_dates)\n",
    "positive_MI_df = temp[[\"positive\", \"datetime\"]]\n",
    "positive_MI_df.head()"
   ]
  },
  {
   "cell_type": "markdown",
   "metadata": {},
   "source": [
    "### 2.2 Plot cumulative positive tests for US and MI\n",
    "\n",
    "Again, this data is large and thus we need to represent in a way that makes it understandable to us.\n",
    "\n",
    "<font size=8 color=\"#009600\">&#9998;</font> Do This - Using the `.plot` method, make two plots: one for the MI positive cases and one for US positive cases. "
   ]
  },
  {
   "cell_type": "code",
   "execution_count": 12,
   "metadata": {
    "scrolled": true
   },
   "outputs": [
    {
     "data": {
      "text/plain": [
       "<matplotlib.axes._subplots.AxesSubplot at 0x7fe088a845e0>"
      ]
     },
     "execution_count": 12,
     "metadata": {},
     "output_type": "execute_result"
    },
    {
     "data": {
      "image/png": "[encoded data removed]",
      "text/plain": [
       "<Figure size 432x288 with 1 Axes>"
      ]
     },
     "metadata": {
      "needs_background": "light"
     },
     "output_type": "display_data"
    },
    {
     "data": {
      "image/png": "[encoded data removed]",
      "text/plain": [
       "<Figure size 432x288 with 1 Axes>"
      ]
     },
     "metadata": {
      "needs_background": "light"
     },
     "output_type": "display_data"
    }
   ],
   "source": [
    "positive_MI_df.plot(x=\"datetime\", y=\"positive\", title=\"MI positive cases\")\n",
    "positive_us_df.plot(x=\"datetime\", y=\"positive\", title=\"US positive cases\")"
   ]
  },
  {
   "cell_type": "markdown",
   "metadata": {},
   "source": [
    "<font size=8 color=\"#009600\">&#9998;</font> Do This - What do you notice about the number of positive cases in the US and in Michigan? How could we characterize the rate at which infections are changing? In particular, what are ways that might be able to compare the two rates on similar scales?"
   ]
  },
  {
   "cell_type": "markdown",
   "metadata": {},
   "source": [
    "### 2.3 Time Calculations\n",
    "\n",
    "One of the most common ways to compare these rates in epidemiology is [\"Doubling Time\"](https://en.wikipedia.org/wiki/Doubling_time). In the space below we are going to look at the Doubling Time of the virus. But to do that, we will have to make some calculations regarding time differences.\n",
    "\n",
    "You can subtract two `DateTime` elements which yields a `Timedelta`, a data type representing a time difference. Let's try that below."
   ]
  },
  {
   "cell_type": "code",
   "execution_count": 13,
   "metadata": {},
   "outputs": [
    {
     "name": "stdout",
     "output_type": "stream",
     "text": [
      "<class 'datetime.timedelta'>\n",
      "30 days, 0:00:00\n",
      "['__abs__', '__add__', '__bool__', '__class__', '__delattr__', '__dir__', '__divmod__', '__doc__', '__eq__', '__floordiv__', '__format__', '__ge__', '__getattribute__', '__gt__', '__hash__', '__init__', '__init_subclass__', '__le__', '__lt__', '__mod__', '__mul__', '__ne__', '__neg__', '__new__', '__pos__', '__radd__', '__rdivmod__', '__reduce__', '__reduce_ex__', '__repr__', '__rfloordiv__', '__rmod__', '__rmul__', '__rsub__', '__rtruediv__', '__setattr__', '__sizeof__', '__str__', '__sub__', '__subclasshook__', '__truediv__', 'days', 'max', 'microseconds', 'min', 'resolution', 'seconds', 'total_seconds']\n",
      "30\n"
     ]
    }
   ],
   "source": [
    "t1 = datetime.datetime(2020, 7, 25)\n",
    "t2 = datetime.datetime(2020, 6, 25)\n",
    "diff = t1 - t2\n",
    "print(type(diff))\n",
    "print(diff)\n",
    "print(dir(diff))\n",
    "print(diff.days)"
   ]
  },
  {
   "cell_type": "markdown",
   "metadata": {},
   "source": [
    "By looking at the `dir` of the `Timedelta` instance named `diff` we see the various data members, one of which is `.days`. Calling `.days` yields an integer value we can do work with. You could have done `.seconds` or changed the `.resolution` but for the work we are doing, the values are recorded as days so that is what we will work with"
   ]
  },
  {
   "cell_type": "markdown",
   "metadata": {},
   "source": [
    "------\n",
    "## 3. Creating the \"Doubling time\" plot\n",
    "\n",
    "Now we calculate an estimate of the [doubling time](https://en.wikipedia.org/wiki/Doubling_time) of positive COVID-19 tests (which gives us a sense of how quickly the virus is spreading).  The doubling time is the amount of time it takes the number of cases to increase by a factor of two.  We use the instantaneous approximation of the doubling time - for times $t_1$ and $t_2$, and number of cases at those times $n_1$ and $n_2$, we can approximately the doubling time $\\tau_d$ as:\n",
    "\n",
    "$\\tau_d \\simeq (t_2 - t_1) \\frac{ln(2)}{ln(n_2/n_1)}$\n",
    "\n",
    "<font size=8 color=\"#009600\">&#9998;</font> Do This - Given that equation, let's write a function called `d_time` which takes as arguments two rows from our time-series, assumed to have the column headers \"datetime\" and \"positive\". Return from that function the doubling time, in days, between those two time periods."
   ]
  },
  {
   "cell_type": "code",
   "execution_count": 10,
   "metadata": {},
   "outputs": [],
   "source": [
    "# your code here for d_time\n",
    "def d_time(row1, row2):\n",
    "    t1 = row1[\"datetime\"]\n",
    "    t2 = row2[\"datetime\"]\n",
    "    n1 = row1[\"positive\"]\n",
    "    n2 = row2[\"positive\"]\n",
    "    if t1 > t2:\n",
    "        t1,t2 = t2,t1\n",
    "        n1,n2, = n2,n1\n",
    "        print(\"swapped\")\n",
    "    time_delta = (t2 - t1).days\n",
    "    return time_delta * ( np.log(2) / np.log(n2/n1) )"
   ]
  },
  {
   "cell_type": "code",
   "execution_count": 13,
   "metadata": {},
   "outputs": [],
   "source": [
    "### ANSWER ###\n",
    "\n",
    "def d_time(row1, row2):\n",
    "    t1 = row1[\"datetime\"]\n",
    "    t2 = row2[\"datetime\"]\n",
    "    n1 = row1[\"positive\"]\n",
    "    n2 = row2[\"positive\"]\n",
    "    if t1 > t2:\n",
    "        t1,t2 = t2,t1\n",
    "        n1,n2, = n2,n1\n",
    "        print(\"swapped\")\n",
    "    time_delta = (t2 - t1).days\n",
    "    return time_delta * ( np.log(2) / np.log(n2/n1) )"
   ]
  },
  {
   "cell_type": "code",
   "execution_count": 14,
   "metadata": {},
   "outputs": [
    {
     "name": "stdout",
     "output_type": "stream",
     "text": [
      "0.0\n"
     ]
    }
   ],
   "source": [
    "# test your code, show that it works\n",
    "print(d_time(positive_us_df.iloc[100], positive_us_df.iloc[0]))"
   ]
  },
  {
   "cell_type": "code",
   "execution_count": 15,
   "metadata": {},
   "outputs": [
    {
     "name": "stdout",
     "output_type": "stream",
     "text": [
      "0.0\n"
     ]
    }
   ],
   "source": [
    "### ANSWER ###\n",
    "\n",
    "print(d_time(positive_us_df.iloc[100], positive_us_df.iloc[0]))"
   ]
  },
  {
   "cell_type": "markdown",
   "metadata": {},
   "source": [
    "### 3.2 Calculating doubling time \n",
    "\n",
    "We have the option of specifying the time delta (every day, every 5 days, every week) to see how the doubling time might change. \n",
    "\n",
    "<font size=8 color=\"#009600\">&#9998;</font> Do This - Let's write a function `d_plot` that takes two arguments.\n",
    "- first is a DataFrame, either the US or the MI that has the two columns, \"positive\" and \"datetime\"\n",
    "- time interval. Conveniently, each element in the DataFrame represents one day, so an interval of 5 means we are using DataFrame rows that are 5 indicies apart. \n",
    " \n",
    "`d_plot` should return an array of doubling times, from the first reported cases up to the latest cases.\n",
    "\n",
    "Here's a hint. The `zip` function will create a list of pairs. If you give it two lists, one a range of indicies from earliest to latest by the interval, and the other a range of values, it will return a list of pairs where the pairs are of (time, value). You do not _need_ to use `zip` to do this calculation, it's just relatively elegant."
   ]
  },
  {
   "cell_type": "code",
   "execution_count": 17,
   "metadata": {},
   "outputs": [],
   "source": [
    "# your code here\n",
    "def d_plot(df, interval):\n",
    "    d_ary = np.zeros(int(len(df)/interval))\n",
    "    d_indx = 0\n",
    "    indxs = zip(range(len(df)-1, 0, -interval), range(len(df)-1-interval, 0, -interval))\n",
    "    for i,j in indxs:\n",
    "        d_ary[d_indx] = d_time(df.iloc[i], df.iloc[j])\n",
    "        d_indx += 1\n",
    "    return d_ary"
   ]
  },
  {
   "cell_type": "code",
   "execution_count": 19,
   "metadata": {},
   "outputs": [],
   "source": [
    "### ANSWER ###\n",
    "\n",
    "def d_plot(df, interval):\n",
    "    d_ary = np.zeros(int(len(df)/interval))\n",
    "    d_indx = 0\n",
    "    indxs = zip(range(len(df)-1, 0, -interval), range(len(df)-1-interval, 0, -interval))\n",
    "    for i,j in indxs:\n",
    "        d_ary[d_indx] = d_time(df.iloc[i], df.iloc[j])\n",
    "        d_indx += 1\n",
    "    return d_ary"
   ]
  },
  {
   "cell_type": "markdown",
   "metadata": {},
   "source": [
    "### 3.3 Plot doubling times\n",
    "\n",
    "A list of doubling times might not be the most useful way to represent our data. So let's instead make a plot to represent the data.\n",
    "\n",
    "<font size=8 color=\"#009600\">&#9998;</font> Do This -  Plot a side-by-side plot of:\n",
    "- doubling time\n",
    "- positives\n",
    "\n",
    "for a given data set (US or MI)."
   ]
  },
  {
   "cell_type": "code",
   "execution_count": 18,
   "metadata": {},
   "outputs": [
    {
     "name": "stderr",
     "output_type": "stream",
     "text": [
      "/opt/anaconda3/lib/python3.7/site-packages/ipykernel_launcher.py:13: RuntimeWarning: invalid value encountered in long_scalars\n",
      "  del sys.path[0]\n",
      "/opt/anaconda3/lib/python3.7/site-packages/ipykernel_launcher.py:13: RuntimeWarning: divide by zero encountered in long_scalars\n",
      "  del sys.path[0]\n"
     ]
    },
    {
     "name": "stdout",
     "output_type": "stream",
     "text": [
      "[nan nan nan nan nan  0.  0.  0.  0.  0.  0.  0.  0.  0.  0.  0.  0.  0.\n",
      "  0.  0.  0.  0.  0.  0.  0.  0.  0.  0.  0.  0.  0.  0.  0.  0.]\n",
      "     positive                      datetime\n",
      "237         0 1970-01-01 00:00:00.020200122\n",
      "236         0 1970-01-01 00:00:00.020200123\n",
      "235         0 1970-01-01 00:00:00.020200124\n",
      "234         0 1970-01-01 00:00:00.020200125\n",
      "233         0 1970-01-01 00:00:00.020200126\n",
      "..        ...                           ...\n",
      "4     6411913 1970-01-01 00:00:00.020200911\n",
      "3     6454000 1970-01-01 00:00:00.020200912\n",
      "2     6488453 1970-01-01 00:00:00.020200913\n",
      "1     6522317 1970-01-01 00:00:00.020200914\n",
      "0     6557762 1970-01-01 00:00:00.020200915\n",
      "\n",
      "[238 rows x 2 columns]\n"
     ]
    },
    {
     "data": {
      "text/plain": [
       "[<matplotlib.lines.Line2D at 0x7f50a621e890>]"
      ]
     },
     "execution_count": 18,
     "metadata": {},
     "output_type": "execute_result"
    },
    {
     "data": {
      "image/png": "[encoded data removed]",
      "text/plain": [
       "<Figure size 432x288 with 2 Axes>"
      ]
     },
     "metadata": {
      "needs_background": "light"
     },
     "output_type": "display_data"
    }
   ],
   "source": [
    "time_interval = 7\n",
    "res = d_plot(positive_us_df, time_interval)\n",
    "print(res)\n",
    "fig,(ax1, ax2) = plt.subplots(1,2)\n",
    "ax1.plot(res)\n",
    "df = positive_us_df.sort_values(\"datetime\")\n",
    "print(df)\n",
    "ax2.plot(df.datetime, df.positive)"
   ]
  },
  {
   "cell_type": "code",
   "execution_count": 19,
   "metadata": {},
   "outputs": [
    {
     "name": "stdout",
     "output_type": "stream",
     "text": [
      "[nan nan nan nan nan  0.  0.  0.  0.  0.  0.  0.  0.  0.  0.  0.  0.  0.\n",
      "  0.  0.  0.  0.  0.  0.  0.  0.  0.  0.  0.  0.  0.  0.  0.  0.]\n",
      "     positive                      datetime\n",
      "237         0 1970-01-01 00:00:00.020200122\n",
      "236         0 1970-01-01 00:00:00.020200123\n",
      "235         0 1970-01-01 00:00:00.020200124\n",
      "234         0 1970-01-01 00:00:00.020200125\n",
      "233         0 1970-01-01 00:00:00.020200126\n",
      "..        ...                           ...\n",
      "4     6411913 1970-01-01 00:00:00.020200911\n",
      "3     6454000 1970-01-01 00:00:00.020200912\n",
      "2     6488453 1970-01-01 00:00:00.020200913\n",
      "1     6522317 1970-01-01 00:00:00.020200914\n",
      "0     6557762 1970-01-01 00:00:00.020200915\n",
      "\n",
      "[238 rows x 2 columns]\n"
     ]
    },
    {
     "name": "stderr",
     "output_type": "stream",
     "text": [
      "/opt/anaconda3/lib/python3.7/site-packages/ipykernel_launcher.py:13: RuntimeWarning: invalid value encountered in long_scalars\n",
      "  del sys.path[0]\n",
      "/opt/anaconda3/lib/python3.7/site-packages/ipykernel_launcher.py:13: RuntimeWarning: divide by zero encountered in long_scalars\n",
      "  del sys.path[0]\n"
     ]
    },
    {
     "data": {
      "text/plain": [
       "[<matplotlib.lines.Line2D at 0x7f509bf60f10>]"
      ]
     },
     "execution_count": 19,
     "metadata": {},
     "output_type": "execute_result"
    },
    {
     "data": {
      "image/png": "[encoded data removed]",
      "text/plain": [
       "<Figure size 432x288 with 2 Axes>"
      ]
     },
     "metadata": {
      "needs_background": "light"
     },
     "output_type": "display_data"
    }
   ],
   "source": [
    "### ANSWER ###\n",
    "time_interval = 7\n",
    "res = d_plot(positive_us_df, time_interval)\n",
    "print(res)\n",
    "fig,(ax1, ax2) = plt.subplots(1,2)\n",
    "ax1.plot(res)\n",
    "df = positive_us_df.sort_values(\"datetime\")\n",
    "print(df)\n",
    "ax2.plot(df.datetime, df.positive)"
   ]
  },
  {
   "cell_type": "markdown",
   "metadata": {},
   "source": [
    "### 3.4 Comparing Intervals\n",
    "\n",
    "In the previous section, you picked an interval to use for your doubling time calculation. What happens if we shrink or lengthen that interval?\n",
    "\n",
    "<font size=8 color=\"#009600\">&#9998;</font> Do This - Make 3 doubling time plots for different choices of interval for the same data (US or MI). What happens to the representation of the data?"
   ]
  },
  {
   "cell_type": "code",
   "execution_count": 20,
   "metadata": {},
   "outputs": [
    {
     "name": "stderr",
     "output_type": "stream",
     "text": [
      "/opt/anaconda3/lib/python3.7/site-packages/ipykernel_launcher.py:13: RuntimeWarning: invalid value encountered in long_scalars\n",
      "  del sys.path[0]\n",
      "/opt/anaconda3/lib/python3.7/site-packages/ipykernel_launcher.py:13: RuntimeWarning: divide by zero encountered in long_scalars\n",
      "  del sys.path[0]\n",
      "/opt/anaconda3/lib/python3.7/site-packages/ipykernel_launcher.py:13: RuntimeWarning: invalid value encountered in long_scalars\n",
      "  del sys.path[0]\n",
      "/opt/anaconda3/lib/python3.7/site-packages/ipykernel_launcher.py:13: RuntimeWarning: divide by zero encountered in long_scalars\n",
      "  del sys.path[0]\n",
      "/opt/anaconda3/lib/python3.7/site-packages/ipykernel_launcher.py:13: RuntimeWarning: invalid value encountered in long_scalars\n",
      "  del sys.path[0]\n",
      "/opt/anaconda3/lib/python3.7/site-packages/ipykernel_launcher.py:13: RuntimeWarning: divide by zero encountered in long_scalars\n",
      "  del sys.path[0]\n"
     ]
    },
    {
     "data": {
      "image/png": "[encoded data removed]",
      "text/plain": [
       "<Figure size 432x288 with 1 Axes>"
      ]
     },
     "metadata": {
      "needs_background": "light"
     },
     "output_type": "display_data"
    }
   ],
   "source": [
    "### ANSWER ###\n",
    "\n",
    "fig, ax1 = plt.subplots(1,1)\n",
    "time_intervals = [2,7,14]\n",
    "\n",
    "for time_interval in time_intervals:\n",
    "    \n",
    "    res = d_plot(positive_us_df, time_interval)\n",
    "\n",
    "    ax1.plot(res)"
   ]
  },
  {
   "cell_type": "markdown",
   "metadata": {},
   "source": [
    "<font size=8 color=\"#009600\">&#9998;</font> Do This -  What do you notice about this plot? Do you see a problem with how we are representing the data? How might we fix this plot to make this comparison more meaningful?"
   ]
  },
  {
   "cell_type": "markdown",
   "metadata": {},
   "source": [
    "---------\n",
    "### Congratulations, you're done with your in-class assignment!\n",
    "\n",
    "Now, you just need to submit this assignment by uploading it to the course <a href=\"https://d2l.msu.edu/\">Desire2Learn</a> web page for today's in-class assignment submission folder. (Don't forget to add all of the appropriate names in the first cell)."
   ]
  },
  {
   "cell_type": "code",
   "execution_count": null,
   "metadata": {},
   "outputs": [],
   "source": []
  }
 ],
 "metadata": {
  "kernelspec": {
   "display_name": "Python 3",
   "language": "python",
   "name": "python3"
  },
  "language_info": {
   "codemirror_mode": {
    "name": "ipython",
    "version": 3
   },
   "file_extension": ".py",
   "mimetype": "text/x-python",
   "name": "python",
   "nbconvert_exporter": "python",
   "pygments_lexer": "ipython3",
   "version": "3.7.6"
  }
 },
 "nbformat": 4,
 "nbformat_minor": 4
}
