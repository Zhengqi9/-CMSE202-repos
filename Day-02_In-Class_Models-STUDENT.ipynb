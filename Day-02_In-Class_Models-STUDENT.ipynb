{
 "cells": [
  {
   "cell_type": "markdown",
   "metadata": {},
   "source": [
    "### <p style=\"text-align: right;\"> &#9989; **Qingxuan Zheng** </p>\n",
    "#### <p style=\"text-align: right;\"> &#9989; Xian, Liwei, Kwak, Sixun, Rebecca</p>"
   ]
  },
  {
   "cell_type": "markdown",
   "metadata": {
    "slideshow": {
     "slide_type": "-"
    }
   },
   "source": [
    "# Day 2 In-Class Assignment: More About Computer Models\n",
    "<img src=\"https://www.elsevier.com/__data/assets/image/0012/834888/Sidney-Harris-cartoon-main-image.jpg\" width= 600>\n",
    "<p style=\"text-align: right;\">\n",
    "</p>"
   ]
  },
  {
   "cell_type": "markdown",
   "metadata": {
    "slideshow": {
     "slide_type": "-"
    }
   },
   "source": [
    "## Agenda for today's class\n",
    "\n",
    "1. Review of pre-class assignment\n",
    "1. Do group assignments\n",
    "1. Group work using Google Doc\n",
    "1. Share with group members your idea about models\n",
    "1. Discuss models associated with the data you selected.\n",
    "1. Assignment wrap-up\n"
   ]
  },
  {
   "cell_type": "markdown",
   "metadata": {},
   "source": [
    "---\n",
    "\n",
    "# 1. Review of pre-class assignment\n",
    "\n",
    "If there were any questions that came up about the pre-class assignment, or parts that were confusing, we'll take a few minutes to discuss those as a class. We **will not** work though the entire pre-class assignment today -- you're expected to have done the assignment yourself!"
   ]
  },
  {
   "cell_type": "markdown",
   "metadata": {},
   "source": [
    "# 2. Your Groups\n",
    "\n",
    "Having completed the CATME survey, we have assigned you to groups. We will use these groups as part of the synchronous zoom in-class meetings we have every class period. You have been assigned a group number. When you log into zoom, please change your name to groupNum-name. Thus for me I might be \"05-bill\" if I was assigned to group 5. If you change your name in this way we can assign you to discussion groups easily.\n",
    "\n",
    "Take a look at the group assignments and please change your zoom name now.\n",
    "\n",
    "* section 01 groups: \n",
    "* section 02 groups:\n",
    "* section 03 groups:\n"
   ]
  },
  {
   "cell_type": "markdown",
   "metadata": {},
   "source": [
    "---\n",
    "# 3. Group work\n",
    "\n",
    "In this project and future projects, you will collaborate with your group mates to write programs to investigate scientific questions as well as develop models, visualizations, and other output to understand the work of data science. The tools you might use include:\n",
    "\n",
    "* Shared Google Docs (https://docs.google.com)\n",
    "* Shared MS Office Docs (https://spartan365.msu.edu)\n",
    "* Shared MS OneNote Notebooks (https://www.onenote.com/classnotebook)\n",
    "* Google JamBoards (https://jamboard.google.com/)\n",
    "* AwwApp whiteboards (https://awwapp.com/)\n",
    "\n",
    "Along with any other tools your group finds. \n",
    "\n",
    "Decide as a group which of these tools you will use today. Remember that your instructors won't see what you are doing (and thus be limited in helping you) unless you share the link with them to view what you are doing. \n",
    "\n",
    "As you work today, keep track of who is doing what (see below)."
   ]
  },
  {
   "cell_type": "markdown",
   "metadata": {},
   "source": [
    "**Note:** To make sure the credit is given to the content that each person contributes, put your name in front the text that you insert into the document. For example, if your name is Bill, you might put something like \"Bill found a data set to model:https://covid.ourworldindata.org/data/owid-covid-data.csv\" . This also helps to gauge how much everyone participates today."
   ]
  },
  {
   "cell_type": "markdown",
   "metadata": {},
   "source": [
    "# Off to groups\n",
    "\n",
    "Based on your group name we are going to activate Zoom room for each group and add the group members to that room. Again, you have been assigned a group and you should have changed your zoom name to groupNum-name. Once you get to groups start working through the questions below and filling out the shared google doc"
   ]
  },
  {
   "cell_type": "markdown",
   "metadata": {},
   "source": [
    "**Question 1:** You were asked to find some online videos about scientific models. Make a list of videos you found. As a group discuss (and mark down) what you liked and didn't like about the video"
   ]
  },
  {
   "cell_type": "markdown",
   "metadata": {},
   "source": [
    "https://www.youtube.com/watch?v=X6wkFg0Upr4&t=104s\n",
    "https://www.youtube.com/watch?v=fGCC9vI0dTU\n",
    "https://www.youtube.com/watch?v=dkTncoPqo5Y\n",
    "https://www.youtube.com/watch?v=BSU4_k_5pGE\n",
    "\n",
    "I like how the video explain the scientific models to us."
   ]
  },
  {
   "cell_type": "markdown",
   "metadata": {},
   "source": [
    "**Question 2:**  Make a bulleted list of data sets you found that were interesting. What kind of model would you build for this data set?"
   ]
  },
  {
   "cell_type": "markdown",
   "metadata": {},
   "source": [
    "I interesting in the data set of word happiness score. I will build the model base by many different factors, and how this factos affect the hapiness score."
   ]
  },
  {
   "cell_type": "markdown",
   "metadata": {},
   "source": [
    "**Question 3:**  What cautions should you be aware of when making a model? Give a list of things to be careful of and how you might mitigate the risk associated with each"
   ]
  },
  {
   "cell_type": "markdown",
   "metadata": {},
   "source": [
    "I'm aware that we need to clearfiy all elements and mark clear for others to see."
   ]
  },
  {
   "cell_type": "markdown",
   "metadata": {},
   "source": [
    "---\n",
    "# 4. Working with Jupyter Notebooks.\n",
    "\n",
    "You have all worked with Jupyter notebooks before. This is an opportunity to talk among yourselves about problems you have run into in the past and possibly ways to get around those problems. We are going to work with notebooks all the time so sharing our experiences is probably very helpful. \n",
    "\n",
    "**Question 4:**  Make a list of issues, best practices, anything you think would be helpfu to the group about how you have interacted with Jupyter notebooks."
   ]
  },
  {
   "cell_type": "markdown",
   "metadata": {},
   "source": [
    "I think we need to always save other work at current time. In case we may lose all of the work."
   ]
  },
  {
   "cell_type": "markdown",
   "metadata": {},
   "source": [
    "-----\n",
    "### Congratulations, you're done with your in-class assignment!\n",
    "\n",
    "Now, you just need to submit this assignment by uploading it to the course <a href=\"https://d2l.msu.edu/\">Desire2Learn</a> web page for today's submission folder (Don't forget to add your names in the first cell)."
   ]
  },
  {
   "cell_type": "markdown",
   "metadata": {},
   "source": [
    "&#169; Copyright Michigan State University Board of Trustees"
   ]
  }
 ],
 "metadata": {
  "anaconda-cloud": {},
  "kernelspec": {
   "display_name": "Python 3",
   "language": "python",
   "name": "python3"
  },
  "language_info": {
   "codemirror_mode": {
    "name": "ipython",
    "version": 3
   },
   "file_extension": ".py",
   "mimetype": "text/x-python",
   "name": "python",
   "nbconvert_exporter": "python",
   "pygments_lexer": "ipython3",
   "version": "3.7.6"
  }
 },
 "nbformat": 4,
 "nbformat_minor": 4
}
